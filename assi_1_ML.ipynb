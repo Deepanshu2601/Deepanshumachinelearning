{
  "nbformat": 4,
  "nbformat_minor": 0,
  "metadata": {
    "colab": {
      "provenance": []
    },
    "kernelspec": {
      "name": "python3",
      "display_name": "Python 3"
    },
    "language_info": {
      "name": "python"
    }
  },
  "cells": [
    {
      "cell_type": "code",
      "execution_count": null,
      "metadata": {
        "colab": {
          "base_uri": "https://localhost:8080/"
        },
        "id": "l9p43P8c4mgp",
        "outputId": "93f81cb2-458b-4c34-f36a-933425a98f0a"
      },
      "outputs": [
        {
          "output_type": "stream",
          "name": "stdout",
          "text": [
            "Reversed array: [5 4 6 3 2 1]\n"
          ]
        }
      ],
      "source": [
        "import numpy as np\n",
        "\n",
        "arr = np.array([1, 2, 3, 6, 4, 5])\n",
        "reversed_arr = arr[::-1]\n",
        "print(\"Reversed array:\", reversed_arr)\n"
      ]
    },
    {
      "cell_type": "code",
      "source": [
        "array1 = np.array([[1, 2, 3], [2, 4, 5], [1, 2, 3]])\n"
      ],
      "metadata": {
        "id": "xa2V0K3M5AsX"
      },
      "execution_count": null,
      "outputs": []
    },
    {
      "cell_type": "code",
      "source": [
        "flat1 = array1.flatten()\n",
        "print(\"Flatten using flatten():\", flat1)"
      ],
      "metadata": {
        "colab": {
          "base_uri": "https://localhost:8080/"
        },
        "id": "UUQuNVSz5Emd",
        "outputId": "343ed5ac-8fe7-49e7-9370-14d821482a8a"
      },
      "execution_count": null,
      "outputs": [
        {
          "output_type": "stream",
          "name": "stdout",
          "text": [
            "Flatten using flatten(): [1 2 3 2 4 5 1 2 3]\n"
          ]
        }
      ]
    },
    {
      "cell_type": "code",
      "source": [
        "arr1 = np.array([[1, 2], [3, 4]])\n",
        "arr2 = np.array([[1, 2], [3, 4]])"
      ],
      "metadata": {
        "id": "HBU9Ks7i5J6p"
      },
      "execution_count": null,
      "outputs": []
    },
    {
      "cell_type": "code",
      "source": [
        "comparison = arr1 == arr2\n",
        "print(\"Element-wise comparison:\\n\", comparison)"
      ],
      "metadata": {
        "colab": {
          "base_uri": "https://localhost:8080/"
        },
        "id": "KYIE_RZx5Tat",
        "outputId": "094ac9b9-9154-4734-c2ac-36be4b76621a"
      },
      "execution_count": null,
      "outputs": [
        {
          "output_type": "stream",
          "name": "stdout",
          "text": [
            "Element-wise comparison:\n",
            " [[ True  True]\n",
            " [ True  True]]\n"
          ]
        }
      ]
    },
    {
      "cell_type": "code",
      "source": [
        "import numpy as np\n",
        "x = np.array([1, 2, 3, 4, 5, 1, 2, 1, 1, 1])\n",
        "values, counts = np.unique(x, return_counts=True)\n",
        "most_frequent_x = values[np.argmax(counts)]\n",
        "indices_x = np.where(x == most_frequent_x)[0]\n",
        "\n",
        "print(\"Most frequent in x:\", most_frequent_x)\n",
        "print(\"Indices in x:\", indices_x)"
      ],
      "metadata": {
        "colab": {
          "base_uri": "https://localhost:8080/"
        },
        "id": "9jlzkSSf5ar2",
        "outputId": "e3f92502-d293-4378-daa4-1f2c0c7847dd"
      },
      "execution_count": null,
      "outputs": [
        {
          "output_type": "stream",
          "name": "stdout",
          "text": [
            "Most frequent in x: 1\n",
            "Indices in x: [0 5 7 8 9]\n"
          ]
        }
      ]
    },
    {
      "cell_type": "code",
      "source": [
        "import numpy as np\n",
        "y = np.array([1, 1, 1, 2, 3, 4, 2, 4, 3, 3])\n",
        "\n",
        "values_y, counts_y = np.unique(y, return_counts=True)\n",
        "most_frequent_y = values_y[np.argmax(counts_y)]\n",
        "indices_y = np.where(y == most_frequent_y)[0]\n",
        "\n",
        "print(\"\\nMost frequent in y:\", most_frequent_y)\n",
        "print(\"Indices in y:\", indices_y)"
      ],
      "metadata": {
        "colab": {
          "base_uri": "https://localhost:8080/"
        },
        "id": "7dLBwzrY5ppE",
        "outputId": "c53301df-b959-420b-80d6-882975002f80"
      },
      "execution_count": null,
      "outputs": [
        {
          "output_type": "stream",
          "name": "stdout",
          "text": [
            "\n",
            "Most frequent in y: 1\n",
            "Indices in y: [0 1 2]\n"
          ]
        }
      ]
    },
    {
      "cell_type": "code",
      "source": [
        "import numpy as np\n",
        "\n",
        "gfg = np.matrix('[4, 1, 9; 12, 3, 1; 4, 5, 6]')\n",
        "total_sum = gfg.sum()\n",
        "print(\"Total sum:\", total_sum)"
      ],
      "metadata": {
        "colab": {
          "base_uri": "https://localhost:8080/"
        },
        "id": "bgfKNZQW546l",
        "outputId": "d62ca329-6bd4-412e-8386-c7dd9e45bf95"
      },
      "execution_count": null,
      "outputs": [
        {
          "output_type": "stream",
          "name": "stdout",
          "text": [
            "Total sum: 45\n"
          ]
        }
      ]
    },
    {
      "cell_type": "code",
      "source": [
        "row_sum = gfg.sum(axis=1)\n",
        "print(\"Row-wise sum:\\n\", row_sum)"
      ],
      "metadata": {
        "colab": {
          "base_uri": "https://localhost:8080/"
        },
        "id": "_xkYClMi5-ch",
        "outputId": "df53ce30-2844-4369-a807-5b0f199891a4"
      },
      "execution_count": null,
      "outputs": [
        {
          "output_type": "stream",
          "name": "stdout",
          "text": [
            "Row-wise sum:\n",
            " [[14]\n",
            " [16]\n",
            " [15]]\n"
          ]
        }
      ]
    },
    {
      "cell_type": "code",
      "source": [
        "col_sum = gfg.sum(axis=0)\n",
        "print(\"Column-wise sum:\\n\", col_sum)"
      ],
      "metadata": {
        "colab": {
          "base_uri": "https://localhost:8080/"
        },
        "id": "8j0Lp_Yr6XF4",
        "outputId": "ddcf57d8-4790-47e7-f727-add7d6d51a93"
      },
      "execution_count": null,
      "outputs": [
        {
          "output_type": "stream",
          "name": "stdout",
          "text": [
            "Column-wise sum:\n",
            " [[20  9 16]]\n"
          ]
        }
      ]
    },
    {
      "cell_type": "code",
      "source": [
        "n_array = np.array([[55, 25, 15], [30, 44, 2], [11, 45, 77]])\n",
        "diagonal_sum = np.trace(n_array)\n",
        "print(\"Diagonal sum:\", diagonal_sum)"
      ],
      "metadata": {
        "colab": {
          "base_uri": "https://localhost:8080/"
        },
        "id": "0sXweVW073OF",
        "outputId": "b6977fa6-8598-4df8-8dca-c7ec19ce5029"
      },
      "execution_count": null,
      "outputs": [
        {
          "output_type": "stream",
          "name": "stdout",
          "text": [
            "Diagonal sum: 176\n"
          ]
        }
      ]
    },
    {
      "cell_type": "code",
      "source": [
        "eigenvalue=np.linalg.eig(n_array)\n",
        "print(\"Eigenvalues:\", eigenvalues)"
      ],
      "metadata": {
        "colab": {
          "base_uri": "https://localhost:8080/"
        },
        "id": "6-ilJ4-U8kRS",
        "outputId": "a32cad2b-ca2f-465f-fdfa-f59964970169"
      },
      "execution_count": null,
      "outputs": [
        {
          "output_type": "stream",
          "name": "stdout",
          "text": [
            "Eigenvalues: [98.16835147 28.097044   49.73460452]\n"
          ]
        }
      ]
    },
    {
      "cell_type": "code",
      "source": [
        "eigenvectors = np.linalg.eig(n_array)\n",
        "print(\"Eigenvectors:\\n\", eigenvectors)"
      ],
      "metadata": {
        "colab": {
          "base_uri": "https://localhost:8080/"
        },
        "id": "oPF4W3GM8DPN",
        "outputId": "cadcb2e7-c2a0-4677-ec68-2540d95b4c20"
      },
      "execution_count": null,
      "outputs": [
        {
          "output_type": "stream",
          "name": "stdout",
          "text": [
            "Eigenvectors:\n",
            " EigResult(eigenvalues=array([98.16835147, 28.097044  , 49.73460452]), eigenvectors=array([[ 0.4574917 ,  0.34637121, -0.15017693],\n",
            "       [ 0.28447814, -0.72784061, -0.4852124 ],\n",
            "       [ 0.84248058,  0.59184038,  0.8614034 ]]))\n"
          ]
        }
      ]
    },
    {
      "cell_type": "code",
      "source": [
        "inverse_matrix = np.linalg.inv(n_array)\n",
        "print(\"Inverse:\\n\", inverse_matrix)"
      ],
      "metadata": {
        "colab": {
          "base_uri": "https://localhost:8080/"
        },
        "id": "tXguL-pn8LiQ",
        "outputId": "31372ea8-4617-4bf9-9983-6fafd9f1d788"
      },
      "execution_count": null,
      "outputs": [
        {
          "output_type": "stream",
          "name": "stdout",
          "text": [
            "Inverse:\n",
            " [[ 0.02404141 -0.00911212 -0.00444671]\n",
            " [-0.01667882  0.02966905  0.0024785 ]\n",
            " [ 0.00631287 -0.01603732  0.01217379]]\n"
          ]
        }
      ]
    },
    {
      "cell_type": "code",
      "source": [
        "det = np.linalg.det(n_array)\n",
        "print(\"Determinant:\", det)"
      ],
      "metadata": {
        "colab": {
          "base_uri": "https://localhost:8080/"
        },
        "id": "ZFA5_tE-8YFn",
        "outputId": "f443c383-9b63-435c-af8d-94cf7d3ae56d"
      },
      "execution_count": null,
      "outputs": [
        {
          "output_type": "stream",
          "name": "stdout",
          "text": [
            "Determinant: 137180.0000000001\n"
          ]
        }
      ]
    },
    {
      "cell_type": "code",
      "source": [
        "p1 = np.array([[1, 2], [2, 3]])\n",
        "q1 = np.array([[4, 5], [6, 7]])"
      ],
      "metadata": {
        "id": "x8Z4OdzL9Y0b"
      },
      "execution_count": null,
      "outputs": []
    },
    {
      "cell_type": "code",
      "source": [
        "product1 = np.dot(p1, q1)\n",
        "print(\"Product1:\\n\", product1)"
      ],
      "metadata": {
        "colab": {
          "base_uri": "https://localhost:8080/"
        },
        "id": "Mdrh_4vt9fqe",
        "outputId": "b0279d38-454d-4e81-d71f-d47f5d99d233"
      },
      "execution_count": null,
      "outputs": [
        {
          "output_type": "stream",
          "name": "stdout",
          "text": [
            "Product1:\n",
            " [[16 19]\n",
            " [26 31]]\n"
          ]
        }
      ]
    },
    {
      "cell_type": "code",
      "source": [
        "cov1 = np.cov(p1.flatten(), q1.flatten())\n",
        "print(\"Covariance1:\\n\", cov1)"
      ],
      "metadata": {
        "colab": {
          "base_uri": "https://localhost:8080/"
        },
        "id": "xb1cHPs59mRr",
        "outputId": "7f74db67-24cc-4054-ffb2-ce11c26de877"
      },
      "execution_count": null,
      "outputs": [
        {
          "output_type": "stream",
          "name": "stdout",
          "text": [
            "Covariance1:\n",
            " [[0.66666667 1.        ]\n",
            " [1.         1.66666667]]\n"
          ]
        }
      ]
    },
    {
      "cell_type": "code",
      "source": [
        "p2 = np.array([[1, 2], [2, 3], [4, 5]])\n",
        "q2 = np.array([[4, 5, 1], [6, 7, 2]])"
      ],
      "metadata": {
        "id": "LUdetCBx9w3u"
      },
      "execution_count": null,
      "outputs": []
    },
    {
      "cell_type": "code",
      "source": [
        "product2 = np.dot(p2, q2)\n",
        "print(\"Product2:\\n\", product2)"
      ],
      "metadata": {
        "colab": {
          "base_uri": "https://localhost:8080/"
        },
        "id": "VjjLsoSS9yXc",
        "outputId": "a3021df7-18ba-4298-8b46-9a8ca383d222"
      },
      "execution_count": null,
      "outputs": [
        {
          "output_type": "stream",
          "name": "stdout",
          "text": [
            "Product2:\n",
            " [[16 19  5]\n",
            " [26 31  8]\n",
            " [46 55 14]]\n"
          ]
        }
      ]
    },
    {
      "cell_type": "code",
      "source": [
        "cov2 = np.cov(p2.flatten(), q2.flatten())\n",
        "print(\"Covariance2:\\n\", cov2)"
      ],
      "metadata": {
        "colab": {
          "base_uri": "https://localhost:8080/"
        },
        "id": "wBq5WpYc_E07",
        "outputId": "7f3447d0-886a-425b-d93e-e57488941100"
      },
      "execution_count": null,
      "outputs": [
        {
          "output_type": "stream",
          "name": "stdout",
          "text": [
            "Covariance2:\n",
            " [[2.16666667 0.23333333]\n",
            " [0.23333333 5.36666667]]\n"
          ]
        }
      ]
    },
    {
      "cell_type": "code",
      "source": [
        "x = np.array([[2, 3, 4], [3, 2, 9]])\n",
        "y = np.array([[1, 5, 0], [5, 10, 3]])\n",
        "inner_product = np.inner(x, y)\n",
        "print(\"Inner Product:\\n\", inner_product)"
      ],
      "metadata": {
        "colab": {
          "base_uri": "https://localhost:8080/"
        },
        "id": "hMj9W2X5_PK0",
        "outputId": "ac85bec5-e952-4579-ed74-b7741f05d4bb"
      },
      "execution_count": null,
      "outputs": [
        {
          "output_type": "stream",
          "name": "stdout",
          "text": [
            "Inner Product:\n",
            " [[17 52]\n",
            " [13 62]]\n"
          ]
        }
      ]
    },
    {
      "cell_type": "code",
      "source": [
        "outer_product = np.outer(x.flatten(), y.flatten())\n",
        "print(\"Outer Product:\\n\", outer_product)"
      ],
      "metadata": {
        "colab": {
          "base_uri": "https://localhost:8080/"
        },
        "id": "qwi20l06_aBH",
        "outputId": "0b683d74-0105-4440-81e8-102c048527cc"
      },
      "execution_count": null,
      "outputs": [
        {
          "output_type": "stream",
          "name": "stdout",
          "text": [
            "Outer Product:\n",
            " [[ 2 10  0 10 20  6]\n",
            " [ 3 15  0 15 30  9]\n",
            " [ 4 20  0 20 40 12]\n",
            " [ 3 15  0 15 30  9]\n",
            " [ 2 10  0 10 20  6]\n",
            " [ 9 45  0 45 90 27]]\n"
          ]
        }
      ]
    },
    {
      "cell_type": "code",
      "source": [
        "from itertools import product\n",
        "cartesian_product = np.array(list(product(x.flatten(), y.flatten())))\n",
        "print(\"Cartesian Product:\\n\", cartesian_product)"
      ],
      "metadata": {
        "colab": {
          "base_uri": "https://localhost:8080/"
        },
        "id": "hWfLBJgO_dyp",
        "outputId": "051a879e-1d95-4f5c-b99b-c2ac80611c29"
      },
      "execution_count": null,
      "outputs": [
        {
          "output_type": "stream",
          "name": "stdout",
          "text": [
            "Cartesian Product:\n",
            " [[ 2  1]\n",
            " [ 2  5]\n",
            " [ 2  0]\n",
            " [ 2  5]\n",
            " [ 2 10]\n",
            " [ 2  3]\n",
            " [ 3  1]\n",
            " [ 3  5]\n",
            " [ 3  0]\n",
            " [ 3  5]\n",
            " [ 3 10]\n",
            " [ 3  3]\n",
            " [ 4  1]\n",
            " [ 4  5]\n",
            " [ 4  0]\n",
            " [ 4  5]\n",
            " [ 4 10]\n",
            " [ 4  3]\n",
            " [ 3  1]\n",
            " [ 3  5]\n",
            " [ 3  0]\n",
            " [ 3  5]\n",
            " [ 3 10]\n",
            " [ 3  3]\n",
            " [ 2  1]\n",
            " [ 2  5]\n",
            " [ 2  0]\n",
            " [ 2  5]\n",
            " [ 2 10]\n",
            " [ 2  3]\n",
            " [ 9  1]\n",
            " [ 9  5]\n",
            " [ 9  0]\n",
            " [ 9  5]\n",
            " [ 9 10]\n",
            " [ 9  3]]\n"
          ]
        }
      ]
    },
    {
      "cell_type": "code",
      "source": [
        "import numpy as np\n",
        "\n",
        "array = np.array([[1, -2, 3], [-4, 5, -6]])"
      ],
      "metadata": {
        "id": "yAV5EqmIBJXs"
      },
      "execution_count": null,
      "outputs": []
    },
    {
      "cell_type": "code",
      "source": [
        "abs_array = np.abs(array)\n",
        "print(\"Absolute values:\\n\", abs_array)"
      ],
      "metadata": {
        "colab": {
          "base_uri": "https://localhost:8080/"
        },
        "id": "a9V4TpX5BOXb",
        "outputId": "a8a90bba-887c-4de1-d12c-c16c06431976"
      },
      "execution_count": null,
      "outputs": [
        {
          "output_type": "stream",
          "name": "stdout",
          "text": [
            "Absolute values:\n",
            " [[1 2 3]\n",
            " [4 5 6]]\n"
          ]
        }
      ]
    },
    {
      "cell_type": "code",
      "source": [
        "flat = array.flatten()\n",
        "percentiles_flat = np.percentile(flat, [25, 50, 75])\n",
        "print(\"Flattened array percentiles (25th, 50th, 75th):\", percentiles_flat)"
      ],
      "metadata": {
        "colab": {
          "base_uri": "https://localhost:8080/"
        },
        "id": "P2V4InTvCQma",
        "outputId": "a35419f5-9a82-4114-dbed-c11a489ad07d"
      },
      "execution_count": null,
      "outputs": [
        {
          "output_type": "stream",
          "name": "stdout",
          "text": [
            "Flattened array percentiles (25th, 50th, 75th): [-3.5 -0.5  2.5]\n"
          ]
        }
      ]
    },
    {
      "cell_type": "code",
      "source": [
        "percentiles_cols = np.percentile(array, [25, 50, 75], axis=0)\n",
        "print(\"Column-wise percentiles:\\n\", percentiles_cols)"
      ],
      "metadata": {
        "colab": {
          "base_uri": "https://localhost:8080/"
        },
        "id": "44bU6k4jCYzN",
        "outputId": "c47cef11-1e84-422f-a033-bf1301f3c69b"
      },
      "execution_count": null,
      "outputs": [
        {
          "output_type": "stream",
          "name": "stdout",
          "text": [
            "Column-wise percentiles:\n",
            " [[-2.75 -0.25 -3.75]\n",
            " [-1.5   1.5  -1.5 ]\n",
            " [-0.25  3.25  0.75]]\n"
          ]
        }
      ]
    },
    {
      "cell_type": "code",
      "source": [
        "percentiles_rows = np.percentile(array, [25, 50, 75], axis=1)\n",
        "print(\"Row-wise percentiles:\\n\", percentiles_rows)"
      ],
      "metadata": {
        "colab": {
          "base_uri": "https://localhost:8080/"
        },
        "id": "_2fMPzXLCU3x",
        "outputId": "19316e36-4866-475f-93c2-2c24dc69d6e9"
      },
      "execution_count": null,
      "outputs": [
        {
          "output_type": "stream",
          "name": "stdout",
          "text": [
            "Row-wise percentiles:\n",
            " [[-0.5 -5. ]\n",
            " [ 1.  -4. ]\n",
            " [ 2.   0.5]]\n"
          ]
        }
      ]
    },
    {
      "cell_type": "code",
      "source": [
        "mean_flat = np.mean(array)\n",
        "median_flat = np.median(array)\n",
        "std_flat = np.std(array)\n",
        "\n",
        "print(\"Flattened Mean:\", mean_flat)\n",
        "print(\"Flattened Median:\", median_flat)\n",
        "print(\"Flattened Std Dev:\", std_flat)"
      ],
      "metadata": {
        "colab": {
          "base_uri": "https://localhost:8080/"
        },
        "id": "8aAsU1q3CsAV",
        "outputId": "818741c7-8e72-4a78-afcd-ed100d52aa2c"
      },
      "execution_count": null,
      "outputs": [
        {
          "output_type": "stream",
          "name": "stdout",
          "text": [
            "Flattened Mean: -0.5\n",
            "Flattened Median: -0.5\n",
            "Flattened Std Dev: 3.8622100754188224\n"
          ]
        }
      ]
    },
    {
      "cell_type": "code",
      "source": [
        "mean_col = np.mean(array, axis=0)\n",
        "median_col = np.median(array, axis=0)\n",
        "std_col = np.std(array, axis=0)\n",
        "\n",
        "print(\"Column-wise Mean:\", mean_col)\n",
        "print(\"Column-wise Median:\", median_col)\n",
        "print(\"Column-wise Std Dev:\", std_col)"
      ],
      "metadata": {
        "colab": {
          "base_uri": "https://localhost:8080/"
        },
        "id": "nNLjFIRRCw2w",
        "outputId": "1e6607b6-2b4d-4abd-f237-9448509c0288"
      },
      "execution_count": null,
      "outputs": [
        {
          "output_type": "stream",
          "name": "stdout",
          "text": [
            "Column-wise Mean: [-1.5  1.5 -1.5]\n",
            "Column-wise Median: [-1.5  1.5 -1.5]\n",
            "Column-wise Std Dev: [2.5 3.5 4.5]\n"
          ]
        }
      ]
    },
    {
      "cell_type": "code",
      "source": [
        "mean_row = np.mean(array, axis=1)\n",
        "median_row = np.median(array, axis=1)\n",
        "std_row = np.std(array, axis=1)\n",
        "\n",
        "print(\"Row-wise Mean:\", mean_row)\n",
        "print(\"Row-wise Median:\", median_row)\n",
        "print(\"Row-wise Std Dev:\", std_row)"
      ],
      "metadata": {
        "colab": {
          "base_uri": "https://localhost:8080/"
        },
        "id": "43Iql2Z4C2QL",
        "outputId": "1576b13c-f41d-428f-c5b7-059240529c8b"
      },
      "execution_count": null,
      "outputs": [
        {
          "output_type": "stream",
          "name": "stdout",
          "text": [
            "Row-wise Mean: [ 0.66666667 -1.66666667]\n",
            "Row-wise Median: [ 1. -4.]\n",
            "Row-wise Std Dev: [2.05480467 4.78423336]\n"
          ]
        }
      ]
    },
    {
      "cell_type": "code",
      "source": [
        "a = np.array([-1.8, -1.6, -0.5, 0.5, 1.6, 1.8, 3.0])"
      ],
      "metadata": {
        "id": "Fr40yFebDA99"
      },
      "execution_count": null,
      "outputs": []
    },
    {
      "cell_type": "code",
      "source": [
        "floor_vals = np.floor(a)\n",
        "ceil_vals = np.ceil(a)\n",
        "trunc_vals = np.trunc(a)\n",
        "round_vals = np.round(a)\n",
        "\n",
        "print(\"Floor:\", floor_vals)\n",
        "print(\"Ceiling:\", ceil_vals)\n",
        "print(\"Truncated:\", trunc_vals)\n",
        "print(\"Rounded:\", round_vals)"
      ],
      "metadata": {
        "colab": {
          "base_uri": "https://localhost:8080/"
        },
        "id": "bKikg4XnDDFx",
        "outputId": "40b71bac-c5c9-481d-a4bb-a29d43d8a094"
      },
      "execution_count": null,
      "outputs": [
        {
          "output_type": "stream",
          "name": "stdout",
          "text": [
            "Floor: [-2. -2. -1.  0.  1.  1.  3.]\n",
            "Ceiling: [-1. -1. -0.  1.  2.  2.  3.]\n",
            "Truncated: [-1. -1. -0.  0.  1.  1.  3.]\n",
            "Rounded: [-2. -2. -0.  0.  2.  2.  3.]\n"
          ]
        }
      ]
    },
    {
      "cell_type": "code",
      "source": [
        "import numpy as np\n",
        "\n",
        "array = np.array([10, 52, 62, 16, 16, 54, 453])"
      ],
      "metadata": {
        "id": "OJ7Aq8l-V8I5"
      },
      "execution_count": null,
      "outputs": []
    },
    {
      "cell_type": "code",
      "source": [
        "sorted_array = np.sort(array)\n",
        "print(\"Sorted array:\", sorted_array)"
      ],
      "metadata": {
        "colab": {
          "base_uri": "https://localhost:8080/"
        },
        "id": "SqBcjOkcWLrQ",
        "outputId": "5c5f0be9-a34a-4684-a17e-4f4814375225"
      },
      "execution_count": null,
      "outputs": [
        {
          "output_type": "stream",
          "name": "stdout",
          "text": [
            "Sorted array: [ 10  16  16  52  54  62 453]\n"
          ]
        }
      ]
    },
    {
      "cell_type": "code",
      "source": [
        "sorted_indices = np.argsort(array)\n",
        "print(\"Indices of sorted array:\", sorted_indices)"
      ],
      "metadata": {
        "colab": {
          "base_uri": "https://localhost:8080/"
        },
        "id": "3cRWK4AjWNtz",
        "outputId": "343fd958-a123-40ef-e863-e1f710f41fd4"
      },
      "execution_count": null,
      "outputs": [
        {
          "output_type": "stream",
          "name": "stdout",
          "text": [
            "Indices of sorted array: [0 3 4 1 5 2 6]\n"
          ]
        }
      ]
    },
    {
      "cell_type": "code",
      "source": [
        "smallest_4 = np.sort(array)[:4]\n",
        "print(\"4 smallest elements:\", smallest_4)"
      ],
      "metadata": {
        "colab": {
          "base_uri": "https://localhost:8080/"
        },
        "id": "HtlCsTdEWQqq",
        "outputId": "0aab4886-d873-409f-d39a-cff8f7cee59b"
      },
      "execution_count": null,
      "outputs": [
        {
          "output_type": "stream",
          "name": "stdout",
          "text": [
            "4 smallest elements: [10 16 16 52]\n"
          ]
        }
      ]
    },
    {
      "cell_type": "code",
      "source": [
        "largest_5 = np.sort(array)[-5:][::-1]\n",
        "print(\"5 largest elements:\", largest_5)"
      ],
      "metadata": {
        "colab": {
          "base_uri": "https://localhost:8080/"
        },
        "id": "0FmdDm2MWUSt",
        "outputId": "c7949cfe-36a8-43dd-a164-5297a4b499b1"
      },
      "execution_count": null,
      "outputs": [
        {
          "output_type": "stream",
          "name": "stdout",
          "text": [
            "5 largest elements: [453  62  54  52  16]\n"
          ]
        }
      ]
    },
    {
      "cell_type": "code",
      "source": [
        "array = np.array([1.0, 1.2, 2.2, 2.0, 3.0, 2.0])"
      ],
      "metadata": {
        "id": "zEtXHHfBWW68"
      },
      "execution_count": null,
      "outputs": []
    },
    {
      "cell_type": "code",
      "source": [
        "int_elements = array[array == np.floor(array)]\n",
        "print(\"Integer elements only:\", int_elements)"
      ],
      "metadata": {
        "colab": {
          "base_uri": "https://localhost:8080/"
        },
        "id": "hL06ND1bWaJj",
        "outputId": "43db4111-e0c0-4b84-f194-2fd6292db065"
      },
      "execution_count": null,
      "outputs": [
        {
          "output_type": "stream",
          "name": "stdout",
          "text": [
            "Integer elements only: [1. 2. 3. 2.]\n"
          ]
        }
      ]
    },
    {
      "cell_type": "code",
      "source": [
        "float_elements = array[array != np.floor(array)]\n",
        "print(\"Float elements only:\", float_elements)"
      ],
      "metadata": {
        "colab": {
          "base_uri": "https://localhost:8080/"
        },
        "id": "1MyUNY_yWdEl",
        "outputId": "f6f0005a-477b-4a75-c4cc-0cd2dfb581b5"
      },
      "execution_count": null,
      "outputs": [
        {
          "output_type": "stream",
          "name": "stdout",
          "text": [
            "Float elements only: [1.2 2.2]\n"
          ]
        }
      ]
    }
  ]
}